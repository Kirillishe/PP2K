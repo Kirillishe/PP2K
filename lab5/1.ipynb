{
 "cells": [
  {
   "cell_type": "markdown",
   "metadata": {},
   "source": [
    "Write a Python program that matches a string that has an `'a'` followed by zero or more `'b'`'s."
   ]
  },
  {
   "cell_type": "code",
   "execution_count": 1,
   "metadata": {},
   "outputs": [
    {
     "name": "stdout",
     "output_type": "stream",
     "text": [
      "a matches\n",
      "ab matches\n",
      "abb matches\n",
      "ac matches\n",
      "b doesn't match\n",
      "ba doesn't match\n",
      "abc matches\n",
      "aab matches\n"
     ]
    }
   ],
   "source": [
    "import re\n",
    "\n",
    "test_strings = [\"a\", \"ab\", \"abb\", \"ac\", \"b\", \"ba\", \"abc\", \"aab\"]\n",
    "r = r\"ab*\"\n",
    "\n",
    "for string in test_strings:\n",
    "    if re.match(r, string):\n",
    "        print(string, \"matches\")\n",
    "    else:\n",
    "        print(string, \"doesn't match\")"
   ]
  },
  {
   "cell_type": "markdown",
   "metadata": {},
   "source": [
    "Write a Python program that matches a string that has an `'a'` followed by two to three `'b'`"
   ]
  },
  {
   "cell_type": "code",
   "execution_count": 11,
   "metadata": {},
   "outputs": [
    {
     "name": "stdout",
     "output_type": "stream",
     "text": [
      "ab doesn't match\n",
      "abb matches\n",
      "abbb matches\n",
      "abbbb doesn't match\n"
     ]
    }
   ],
   "source": [
    "import re\n",
    "\n",
    "test_strings = ['ab', 'abb', 'abbb', 'abbbb']\n",
    "r = r\"ab{2,3}$\"\n",
    "\n",
    "for string in test_strings:\n",
    "    if re.match(r, string):\n",
    "        print(string, \"matches\")\n",
    "    else:\n",
    "        print(string, \"doesn't match\")\n"
   ]
  },
  {
   "cell_type": "markdown",
   "metadata": {},
   "source": [
    "Write a Python program to find sequences of lowercase letters joined with a underscore."
   ]
  },
  {
   "cell_type": "code",
   "execution_count": 20,
   "metadata": {},
   "outputs": [
    {
     "name": "stdout",
     "output_type": "stream",
     "text": [
      "['test_string']\n"
     ]
    }
   ],
   "source": [
    "import re \n",
    "\n",
    "test_strings = \"tesT_string test_string test_StrinG\" \n",
    "r = r\"[a-z]+_[a-z]+\"\n",
    "\n",
    "x = re.findall(r, test_strings)\n",
    "print(x)\n",
    "\n"
   ]
  },
  {
   "cell_type": "markdown",
   "metadata": {},
   "source": [
    "Write a Python program to find the sequences of one upper case letter followed by lower case letters."
   ]
  },
  {
   "cell_type": "code",
   "execution_count": 21,
   "metadata": {},
   "outputs": [
    {
     "name": "stdout",
     "output_type": "stream",
     "text": [
      "['Lo', 'Ld', 'Hell', 'World']\n"
     ]
    }
   ],
   "source": [
    "import re \n",
    "\n",
    "test_strings = \"HELLo woRLd HellO World\"\n",
    "r=r\"[A-Z][a-z]+\"\n",
    "\n",
    "x = re.findall(r, test_strings)\n",
    "print(x)\n"
   ]
  },
  {
   "cell_type": "markdown",
   "metadata": {},
   "source": [
    "Write a Python program that matches a string that has an `'a'` followed by anything, ending in `'b'`."
   ]
  },
  {
   "cell_type": "code",
   "execution_count": 27,
   "metadata": {},
   "outputs": [
    {
     "name": "stdout",
     "output_type": "stream",
     "text": [
      "a.....b matches\n",
      "aaaaaaaaaaaaaaab matches\n",
      "abbbbbbbbbbbbbbbbbbbbbbb matches\n",
      "aioiob matches\n",
      "alohab matches\n",
      "a          b matches\n"
     ]
    }
   ],
   "source": [
    "import re\n",
    "\n",
    "test_srings = [\"a.....b\",  \"aaaaaaaaaaaaaaab\", \"abbbbbbbbbbbbbbbbbbbbbbb\", \"aioiob\", \"alohab\", \"a          b\"]\n",
    "r = r'a.*b'\n",
    "\n",
    "for string in test_strings:\n",
    "    if re.match(r, string):\n",
    "        print(string, \"matches\")\n",
    "    else:\n",
    "        print(string, \"doesn't match\")\n"
   ]
  },
  {
   "cell_type": "markdown",
   "metadata": {},
   "source": [
    "Write a Python program to replace all occurrences of space, comma, or dot with a colon."
   ]
  },
  {
   "cell_type": "code",
   "execution_count": 28,
   "metadata": {},
   "outputs": [
    {
     "name": "stdout",
     "output_type": "stream",
     "text": [
      "hello::world:\n"
     ]
    }
   ],
   "source": [
    "import re\n",
    "\n",
    "test_string = 'hello, world.'\n",
    "r = r'[\\s,.]'\n",
    "\n",
    "x = re.sub(r, ':', test_string)\n",
    "print(x)"
   ]
  },
  {
   "cell_type": "markdown",
   "metadata": {},
   "source": [
    "Write a python program to convert snake case string to camel case string."
   ]
  },
  {
   "cell_type": "code",
   "execution_count": 34,
   "metadata": {},
   "outputs": [
    {
     "name": "stdout",
     "output_type": "stream",
     "text": [
      "thisIsSnakeCase\n"
     ]
    }
   ],
   "source": [
    "import re\n",
    "\n",
    "def to_uppercase(match):\n",
    "    return match.group(1).upper()\n",
    "\n",
    "test_string = 'this_is_snake_case'\n",
    "r = r'_([a-z])'\n",
    "\n",
    "x = re.sub(r, to_uppercase, test_string)\n",
    "print(x)"
   ]
  },
  {
   "cell_type": "markdown",
   "metadata": {},
   "source": [
    "Write a Python program to split a string at uppercase letters."
   ]
  },
  {
   "cell_type": "code",
   "execution_count": 30,
   "metadata": {},
   "outputs": [
    {
     "name": "stdout",
     "output_type": "stream",
     "text": [
      "['hell0', 'world', 'python']\n"
     ]
    }
   ],
   "source": [
    "import re\n",
    "test_string = \"hell0AworldDpython\"\n",
    "r = r'[A-Z]'\n",
    "\n",
    "x = re.split(r, test_string)\n",
    "print(x)"
   ]
  },
  {
   "cell_type": "markdown",
   "metadata": {},
   "source": [
    "Write a Python program to insert spaces between words starting with capital letters."
   ]
  },
  {
   "cell_type": "code",
   "execution_count": 29,
   "metadata": {},
   "outputs": [
    {
     "name": "stdout",
     "output_type": "stream",
     "text": [
      "each Word Should Be Separated\n"
     ]
    }
   ],
   "source": [
    "import re\n",
    "test_string = 'eachWordShouldBeSeparated'\n",
    "r = r'([A-Z])'\n",
    "\n",
    "x = re.sub(r, lambda match: ' '+match.group(1), test_string)\n",
    "print(x)"
   ]
  },
  {
   "cell_type": "markdown",
   "metadata": {},
   "source": [
    "Write a Python program to convert a given camel case string to snake case."
   ]
  },
  {
   "cell_type": "code",
   "execution_count": 33,
   "metadata": {},
   "outputs": [
    {
     "name": "stdout",
     "output_type": "stream",
     "text": [
      "this_is_a_camel_case\n"
     ]
    }
   ],
   "source": [
    "import re\n",
    "test_string = \"thisIsACamelCase\"\n",
    "r = r'([A-Z])'\n",
    "\n",
    "x = re.sub(r, lambda match:'_'+match.group(1).lower(), test_string)\n",
    "print(x)"
   ]
  }
 ],
 "metadata": {
  "kernelspec": {
   "display_name": "Python 3",
   "language": "python",
   "name": "python3"
  },
  "language_info": {
   "codemirror_mode": {
    "name": "ipython",
    "version": 3
   },
   "file_extension": ".py",
   "mimetype": "text/x-python",
   "name": "python",
   "nbconvert_exporter": "python",
   "pygments_lexer": "ipython3",
   "version": "3.13.1"
  }
 },
 "nbformat": 4,
 "nbformat_minor": 2
}
