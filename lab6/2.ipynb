{
 "cells": [
  {
   "cell_type": "markdown",
   "metadata": {},
   "source": [
    "Write a Python program to list only directories, files and all directories, files in a specified path."
   ]
  },
  {
   "cell_type": "code",
   "execution_count": 1,
   "metadata": {},
   "outputs": [
    {
     "name": "stdout",
     "output_type": "stream",
     "text": [
      "/Users/kirillchumikov/Desktop/pp2_lab1/lab6\n",
      "\n",
      "Directories:\n",
      "\n",
      "Files:\n",
      "1.ipynb\n",
      "2.ipynb\n",
      "\n",
      "All elements:\n",
      "1.ipynb\n",
      "2.ipynb\n"
     ]
    }
   ],
   "source": [
    "import os\n",
    "\n",
    "path = os.getcwd()\n",
    "print(path)\n",
    "print(\"\\nDirectories:\")\n",
    "for element in os.listdir(path):\n",
    "    if os.path.isdir(element):\n",
    "        print(element)\n",
    "\n",
    "\n",
    "print(\"\\nFiles:\")\n",
    "for element in os.listdir(path):\n",
    "    if os.path.isfile(element):\n",
    "        print(element)\n",
    "\n",
    "print(\"\\nAll elements:\")\n",
    "for element in os.listdir(path):\n",
    "    print(element)"
   ]
  },
  {
   "cell_type": "markdown",
   "metadata": {},
   "source": [
    "Write a Python program to check for access to a specified path. Test the existence, readability, writability and executability of the specified path"
   ]
  },
  {
   "cell_type": "code",
   "execution_count": 2,
   "metadata": {},
   "outputs": [
    {
     "name": "stdout",
     "output_type": "stream",
     "text": [
      "It exists\n",
      "Readable: Yes\n",
      "Writable: Yes\n",
      "Executable: Yes\n"
     ]
    }
   ],
   "source": [
    "\n",
    "import os\n",
    "specific_path = \"//Users/kirillchumikov/Desktop/pp2_lab1/lab6\"\n",
    "if os.path.exists(specific_path): \n",
    "    print(\"It exists\")\n",
    "    if os.access(specific_path, os.R_OK):\n",
    "        print(\"Readable: Yes\")\n",
    "    else:\n",
    "        print(\"Readable: No\")\n",
    "    if os.access(specific_path, os.W_OK):\n",
    "         print(\"Writable: Yes\")\n",
    "    else:\n",
    "        print(\"Writable: No\")\n",
    "    if os.access(specific_path, os.X_OK):\n",
    "        print(\"Executable: Yes\")\n",
    "    else: print(\"Executable: No\")\n",
    "else: print(\"It doesn't exist\")"
   ]
  },
  {
   "cell_type": "markdown",
   "metadata": {},
   "source": [
    "Write a Python program to test whether a given path exists or not. If the path exist find the filename and directory portion of the given path."
   ]
  },
  {
   "cell_type": "code",
   "execution_count": 6,
   "metadata": {},
   "outputs": [
    {
     "name": "stdout",
     "output_type": "stream",
     "text": [
      "Directory exists\n",
      "Directory portion: '//Users/kirillchumikov/Desktop/pp2_lab1/lab6'\n",
      "Filename portion: 'NO FILE'\n"
     ]
    }
   ],
   "source": [
    "import os\n",
    "\n",
    "path = \"//Users/kirillchumikov/Desktop/pp2_lab1/lab6\"\n",
    "path.strip()\n",
    "\n",
    "exists = os.access(path, os.F_OK)\n",
    "if exists:\n",
    "        print(\"Directory exists\")\n",
    "        if os.path.isfile(path):\n",
    "            directory = os.path.dirname(path)\n",
    "            filename = os.path.basename(path)\n",
    "        else:\n",
    "              directory = path\n",
    "        print(f\"Directory portion: '{directory}'\")\n",
    "        print(f\"Filename portion: '{filename}'\")\n",
    "else:\n",
    "      print(\"Directory doesn't exist\")"
   ]
  },
  {
   "cell_type": "markdown",
   "metadata": {},
   "source": [
    "Write a Python program to count the number of lines in a text file."
   ]
  },
  {
   "cell_type": "code",
   "execution_count": 16,
   "metadata": {},
   "outputs": [
    {
     "name": "stdout",
     "output_type": "stream",
     "text": [
      "4\n"
     ]
    }
   ],
   "source": [
    "txt = \"task4.txt\"\n",
    "with open(txt, \"r\") as file:\n",
    "    count = 0\n",
    "    for i in file.readlines():\n",
    "        count+=1\n",
    "print(count)"
   ]
  },
  {
   "cell_type": "markdown",
   "metadata": {},
   "source": [
    "Write a Python program to write a list to a file."
   ]
  },
  {
   "cell_type": "code",
   "execution_count": 14,
   "metadata": {},
   "outputs": [],
   "source": [
    "listik = [1, 2 ,3, 5, 6, \"Hello\"]\n",
    "txt = \"task5.txt\"\n",
    "with open(txt, \"w\") as file:\n",
    "        file.write(\", \".join(map(str, listik)))"
   ]
  },
  {
   "cell_type": "markdown",
   "metadata": {},
   "source": [
    "Write a Python program to generate 26 text files named A.txt, B.txt, and so on up to Z.txt"
   ]
  },
  {
   "cell_type": "code",
   "execution_count": 17,
   "metadata": {},
   "outputs": [],
   "source": [
    "for i in range(26):\n",
    "    file = open(f\"{chr(ord(\"A\")+i)}.txt\", 'w')\n",
    "    file.close()"
   ]
  },
  {
   "cell_type": "markdown",
   "metadata": {},
   "source": [
    "Write a Python program to copy the contents of a file to another file  "
   ]
  },
  {
   "cell_type": "code",
   "execution_count": 18,
   "metadata": {},
   "outputs": [],
   "source": [
    "first_file = \"task5.txt\"\n",
    "second_file = \"task6.txt\"\n",
    "file1 = open(first_file, \"r\")\n",
    "with open(second_file, \"w\") as file2, open(first_file, \"r\") as file1:\n",
    "    for i in file1.readlines(): file2.write(i)"
   ]
  },
  {
   "cell_type": "markdown",
   "metadata": {},
   "source": [
    "Write a Python program to delete file by specified path. Before deleting check for access and whether a given path exists or not."
   ]
  },
  {
   "cell_type": "code",
   "execution_count": 19,
   "metadata": {},
   "outputs": [
    {
     "name": "stdout",
     "output_type": "stream",
     "text": [
      "There is no such path\n"
     ]
    }
   ],
   "source": [
    "import os\n",
    "specific_path = \"/Users/User/Desktop/Python/Practise_06/Lab_06/Lab6/remove.txt\"\n",
    "if os.path.exists(specific_path):\n",
    "    if os.access(os.path.dirname(specific_path),  os.W_OK):\n",
    "        if os.access(specific_path, os.W_OK): \n",
    "            os.remove(specific_path)\n",
    "        else: print(\"Yoy don't have access to this file\")\n",
    "    else: print(\"Yoy don't have access to this directory\")\n",
    "else: print(\"There is no such path\")"
   ]
  }
 ],
 "metadata": {
  "kernelspec": {
   "display_name": "Python 3",
   "language": "python",
   "name": "python3"
  },
  "language_info": {
   "codemirror_mode": {
    "name": "ipython",
    "version": 3
   },
   "file_extension": ".py",
   "mimetype": "text/x-python",
   "name": "python",
   "nbconvert_exporter": "python",
   "pygments_lexer": "ipython3",
   "version": "3.13.1"
  }
 },
 "nbformat": 4,
 "nbformat_minor": 2
}
