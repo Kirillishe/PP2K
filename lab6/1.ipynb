{
 "cells": [
  {
   "cell_type": "markdown",
   "metadata": {},
   "source": [
    " Write a Python program with builtin function to multiply all the numbers in a list"
   ]
  },
  {
   "cell_type": "code",
   "execution_count": 14,
   "metadata": {},
   "outputs": [
    {
     "name": "stdout",
     "output_type": "stream",
     "text": [
      "4800\n"
     ]
    }
   ],
   "source": [
    "\n",
    "anything = [1, 2, 3, 4, 10, 20]\n",
    "cnt = 1\n",
    "for i in range(len(anything)):\n",
    "    cnt*=anything[i]\n",
    "print(cnt)"
   ]
  },
  {
   "cell_type": "markdown",
   "metadata": {},
   "source": [
    "Write a Python program with builtin function that accepts a string and calculate the number of upper case letters and lower case letters"
   ]
  },
  {
   "cell_type": "code",
   "execution_count": 16,
   "metadata": {},
   "outputs": [
    {
     "name": "stdout",
     "output_type": "stream",
     "text": [
      " upper case is 5 and lower case is 6\n"
     ]
    }
   ],
   "source": [
    "something = \"HeLLo, PindoS!\"\n",
    "def funct(some_str):\n",
    "    cnt_up = sum(1 for i in something if i.isupper())\n",
    "    cnt_lo = sum(1 for i in something if i.islower())\n",
    "    return cnt_up, cnt_lo\n",
    "print(f\" upper case is {funct(something)[0]} and lower case is {funct(something)[1]}\")\n"
   ]
  },
  {
   "cell_type": "markdown",
   "metadata": {},
   "source": [
    "Write a Python program with builtin function that checks whether a passed string is palindrome or not."
   ]
  },
  {
   "cell_type": "code",
   "execution_count": 17,
   "metadata": {},
   "outputs": [
    {
     "name": "stdout",
     "output_type": "stream",
     "text": [
      "It is palindrome\n"
     ]
    }
   ],
   "source": [
    "smth = \"abba\"\n",
    "if smth==smth[::-1]: print(\"It is palindrome\")\n",
    "else: print(\"It is not palindrome\")"
   ]
  },
  {
   "cell_type": "markdown",
   "metadata": {},
   "source": [
    "Write a Python program that invoke square root function after specific milliseconds. \n",
    "    ```\n",
    "    Sample Input:\n",
    "    25100\n",
    "    2123\n",
    "    Sample Output:\n",
    "    Square root of 25100 after 2123 miliseconds is 158.42979517754858\n",
    "    ````"
   ]
  },
  {
   "cell_type": "code",
   "execution_count": 19,
   "metadata": {},
   "outputs": [
    {
     "name": "stdout",
     "output_type": "stream",
     "text": [
      "Square root of 25100 after 2123 miliseconds is 158.42979517754858\n"
     ]
    }
   ],
   "source": [
    "from math import sqrt\n",
    "import time\n",
    "num = 25100\n",
    "wait = 2123\n",
    "time.sleep(wait*0.001)\n",
    "\n",
    "print(f\"Square root of {num} after {wait} miliseconds is {sqrt(num)}\")"
   ]
  },
  {
   "cell_type": "markdown",
   "metadata": {},
   "source": [
    "Write a Python program with builtin function that returns True if all elements of the tuple are true."
   ]
  },
  {
   "cell_type": "code",
   "execution_count": 20,
   "metadata": {},
   "outputs": [
    {
     "name": "stdout",
     "output_type": "stream",
     "text": [
      "All elements of tuple are true\n"
     ]
    }
   ],
   "source": [
    "\n",
    "tup = (1, 2 , 3, True, \"3\", \"99\")\n",
    "cnt = True\n",
    "for i in tup:\n",
    "    if i==False: \n",
    "        print(\"Not all elements of tuple are true\")\n",
    "        counter = False\n",
    "if cnt: print(\"All elements of tuple are true\")"
   ]
  }
 ],
 "metadata": {
  "kernelspec": {
   "display_name": "Python 3",
   "language": "python",
   "name": "python3"
  },
  "language_info": {
   "codemirror_mode": {
    "name": "ipython",
    "version": 3
   },
   "file_extension": ".py",
   "mimetype": "text/x-python",
   "name": "python",
   "nbconvert_exporter": "python",
   "pygments_lexer": "ipython3",
   "version": "3.13.1"
  }
 },
 "nbformat": 4,
 "nbformat_minor": 2
}
