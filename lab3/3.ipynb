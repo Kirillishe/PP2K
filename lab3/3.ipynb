{
 "cells": [
  {
   "cell_type": "code",
   "execution_count": 9,
   "metadata": {},
   "outputs": [
    {
     "name": "stdout",
     "output_type": "stream",
     "text": [
      "\n"
     ]
    }
   ],
   "source": [
    "class String:\n",
    "    \n",
    "    def getString(self):\n",
    "        return input(\"Enter the string: \")\n",
    "    \n",
    "    def printString(self, st):\n",
    "        print(st)\n",
    "        \n",
    "string = String()\n",
    "\n",
    "a = string.getString()  \n",
    "string.printString(a)\n"
   ]
  },
  {
   "cell_type": "code",
   "execution_count": null,
   "metadata": {},
   "outputs": [],
   "source": [
    "\n",
    "from shape import Shape\n",
    "\n",
    "class Rectangle(Shape):\n",
    "    def __init__(self, length, width):\n",
    "        self.length = length\n",
    "        self.width = width\n",
    "        \n",
    "    def area(self):\n",
    "        return self.length * self.width\n",
    "    \n",
    "rect = Rectangle(2, 5)\n",
    "print(rect.area())\n"
   ]
  },
  {
   "cell_type": "code",
   "execution_count": 8,
   "metadata": {},
   "outputs": [
    {
     "name": "stdout",
     "output_type": "stream",
     "text": [
      "4.47213595499958\n"
     ]
    }
   ],
   "source": [
    "from math import sqrt, pow\n",
    "\n",
    "class Point:\n",
    "    def __init__(self, x, y):\n",
    "        self.x = x\n",
    "        self.y = y\n",
    "        \n",
    "    def show(self):\n",
    "        print(f\"x: {self.x}\\ny: {self.y}\")\n",
    "        \n",
    "    def move(self, x, y):\n",
    "        self.x = x\n",
    "        self.y = y\n",
    "        print(f\"sucessfully moved to ({self.x}, {self.y})\")\n",
    "        \n",
    "    def dist(self, other):\n",
    "        x = other.x - self.x\n",
    "        y = other.y - self.y\n",
    "        return sqrt(pow(x, 2) + pow(y, 2))\n",
    "    \n",
    "        \n",
    "first = Point(3, 2)\n",
    "second = Point(5, 6)\n",
    "print(first.dist(second))"
   ]
  },
  {
   "cell_type": "code",
   "execution_count": 7,
   "metadata": {},
   "outputs": [
    {
     "name": "stdout",
     "output_type": "stream",
     "text": [
      "[2, 3, 4, 5, 7, 11, 17, 19, 29]\n"
     ]
    }
   ],
   "source": [
    "def isPrime(num):\n",
    "    if num < 2:\n",
    "        return False\n",
    "    for i in range(2, num//2):\n",
    "        if num%i == 0:\n",
    "            return False\n",
    "    return True\n",
    "\n",
    "nums = [0, 1, 2, 3, 4, 5, 6, 7, 8, 9, 10, 11, 12, 16, 15, 17, 19, 29]\n",
    "print(list(filter(lambda x: isPrime(x), nums)))"
   ]
  },
  {
   "cell_type": "code",
   "execution_count": 6,
   "metadata": {},
   "outputs": [
    {
     "name": "stdout",
     "output_type": "stream",
     "text": [
      "Not enough money on balance\n",
      "\n",
      "Kirill, 100000 is added to your account\n",
      "Your current balance is 100000.0\n",
      "\n",
      "Kirill, 5000 is withdrawn from your account\n",
      "Your current balance is 95000.0\n",
      "\n"
     ]
    },
    {
     "data": {
      "text/plain": [
       "True"
      ]
     },
     "execution_count": 6,
     "metadata": {},
     "output_type": "execute_result"
    }
   ],
   "source": [
    "class Account:\n",
    "    def __init__(self, owner):\n",
    "        self.owner = owner\n",
    "        self.balance = 0.0\n",
    "        \n",
    "    def deposit(self, amount):\n",
    "        self.balance += amount\n",
    "        print(f\"{self.owner}, {amount} is added to your account\")\n",
    "        print(f\"Your current balance is {self.balance}\\n\")\n",
    "    \n",
    "    def withdraw(self, amount):\n",
    "        if amount > self.balance:\n",
    "            print(\"Not enough money on balance\\n\")\n",
    "            return False\n",
    "        self.balance -= amount\n",
    "        print(f\"{self.owner}, {amount} is withdrawn from your account\")\n",
    "        print(f\"Your current balance is {self.balance}\\n\")\n",
    "        return True\n",
    "        \n",
    "acc = Account(\"Kirill\")\n",
    "acc.withdraw(1000)\n",
    "acc.deposit(100000)\n",
    "acc.withdraw(5000)"
   ]
  }
 ],
 "metadata": {
  "kernelspec": {
   "display_name": "Python 3",
   "language": "python",
   "name": "python3"
  },
  "language_info": {
   "codemirror_mode": {
    "name": "ipython",
    "version": 3
   },
   "file_extension": ".py",
   "mimetype": "text/x-python",
   "name": "python",
   "nbconvert_exporter": "python",
   "pygments_lexer": "ipython3",
   "version": "3.13.1"
  }
 },
 "nbformat": 4,
 "nbformat_minor": 2
}
