{
 "cells": [
  {
   "cell_type": "code",
   "execution_count": 5,
   "metadata": {},
   "outputs": [
    {
     "name": "stdout",
     "output_type": "stream",
     "text": [
      "True\n"
     ]
    }
   ],
   "source": [
    "from dict import movies\n",
    "\n",
    "def isGood(dict):\n",
    "    return dict[\"imdb\"] > 5.5\n",
    "\n",
    "print(isGood(movies[0]))"
   ]
  },
  {
   "cell_type": "code",
   "execution_count": 4,
   "metadata": {},
   "outputs": [
    {
     "name": "stdout",
     "output_type": "stream",
     "text": [
      "['Usual Suspects', 'Hitman', 'Dark Knight', 'The Help', 'The Choice', 'Colonia', 'Love', 'Joking muck', 'What is the name', 'Detective', 'We Two']\n"
     ]
    }
   ],
   "source": [
    "from dict import movies\n",
    "\n",
    "def listGood(lt):\n",
    "    out = list()\n",
    "    for el in lt:\n",
    "        if el[\"imdb\"] > 5.5:\n",
    "            out.append(el[\"name\"])\n",
    "    return out\n",
    "\n",
    "print(listGood(movies))\n"
   ]
  },
  {
   "cell_type": "code",
   "execution_count": 3,
   "metadata": {},
   "outputs": [
    {
     "name": "stdout",
     "output_type": "stream",
     "text": [
      "['The Choice', 'Colonia', 'Love', 'Bride Wars', 'We Two']\n"
     ]
    }
   ],
   "source": [
    "from dict import movies\n",
    "\n",
    "def categoryList(category):\n",
    "    return [x[\"name\"] for x in movies if x[\"category\"] == category]\n",
    "\n",
    "print(categoryList(\"Romance\"))"
   ]
  },
  {
   "cell_type": "code",
   "execution_count": 2,
   "metadata": {},
   "outputs": [
    {
     "name": "stdout",
     "output_type": "stream",
     "text": [
      "6.233333333333334\n"
     ]
    }
   ],
   "source": [
    "from dict import movies\n",
    "\n",
    "def avg(mov):\n",
    "    sum = 0\n",
    "    for el in mov:\n",
    "        sum += el[\"imdb\"]\n",
    "    return sum/len(mov)\n",
    "\n",
    "print(avg([movies[0], movies[1], movies[7]]))\n"
   ]
  },
  {
   "cell_type": "code",
   "execution_count": 1,
   "metadata": {},
   "outputs": [
    {
     "name": "stdout",
     "output_type": "stream",
     "text": [
      "6.44\n",
      "6.3\n"
     ]
    }
   ],
   "source": [
    "from dict import movies\n",
    "\n",
    "def categoryAvg(category):\n",
    "    lt = [x[\"imdb\"] for x in movies if x[\"category\"] == category]\n",
    "    return sum(lt)/len(lt)\n",
    "\n",
    "print(categoryAvg(\"Romance\"))\n",
    "print(categoryAvg(\"Action\"))\n"
   ]
  }
 ],
 "metadata": {
  "kernelspec": {
   "display_name": "Python 3",
   "language": "python",
   "name": "python3"
  },
  "language_info": {
   "codemirror_mode": {
    "name": "ipython",
    "version": 3
   },
   "file_extension": ".py",
   "mimetype": "text/x-python",
   "name": "python",
   "nbconvert_exporter": "python",
   "pygments_lexer": "ipython3",
   "version": "3.13.1"
  }
 },
 "nbformat": 4,
 "nbformat_minor": 2
}
